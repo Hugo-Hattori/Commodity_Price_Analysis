{
 "cells": [
  {
   "cell_type": "code",
   "execution_count": 1,
   "id": "020de958",
   "metadata": {},
   "outputs": [],
   "source": [
    "#Passo 1: Abrir o navegador\n",
    "from selenium import webdriver\n",
    "\n",
    "navegador = webdriver.Chrome()"
   ]
  },
  {
   "cell_type": "code",
   "execution_count": 2,
   "id": "2eb9df2f",
   "metadata": {},
   "outputs": [],
   "source": [
    "#Passo 2: Importar a base de dados\n",
    "import pandas as pd\n",
    "\n",
    "tabela = pd.read_excel(\"commodities.xlsx\")"
   ]
  },
  {
   "cell_type": "code",
   "execution_count": 3,
   "id": "c76f12c4",
   "metadata": {
    "scrolled": true
   },
   "outputs": [],
   "source": [
    "#Passo 3: Pesquisar os preços atuais (cotação atual)\n",
    "for linha in tabela.index:\n",
    "    produto = tabela.loc[linha, \"Produto\"]\n",
    "    produto = produto.replace(\"ó\",\"o\").replace(\"ã\",\"a\").replace(\"ç\",\"c\").replace(\"ú\",\"u\").replace(\"é\",\"e\").replace(\"á\",\"a\")\n",
    "    link = f\"https://www.melhorcambio.com/{produto.lower()}-hoje\"\n",
    "    navegador.get(link)\n",
    "    preco = navegador.find_element(\"xpath\", '//*[@id=\"comercial\"]').get_attribute(\"value\")\n",
    "    \n",
    "    #Ajuste moeda brasileira\n",
    "    preco = preco.replace(\".\",\"\").replace(\",\",\".\") \n",
    "    \n",
    "    #Passo 4: Atualizar os preços na base de dados\n",
    "    tabela.loc[linha,\"Preço Atual\"] = float(preco)\n",
    "\n",
    "navegador.quit()"
   ]
  },
  {
   "cell_type": "code",
   "execution_count": 4,
   "id": "235e20eb",
   "metadata": {},
   "outputs": [],
   "source": [
    "#Passo 5: Criar planilha com dados atualizados e com a decisão de compra (VERDADEIRO = Compra, FALSO = Não Compra)\n",
    "tabela[\"Comprar\"] = tabela[\"Preço Atual\"] < tabela[\"Preço Ideal\"]\n",
    "\n",
    "#Substituindo VERDADEIRO por Sim e FALSO por Não\n",
    "for linha in tabela.index:\n",
    "    x = tabela.loc[linha, \"Comprar\"]\n",
    "    if x == True:\n",
    "        x = \"Sim\"\n",
    "    else:\n",
    "        x = \"Não\"\n",
    "    tabela.loc[linha, \"Comprar\"] = x\n",
    "    \n",
    "    \n",
    "#Criando planilha nova atualizada\n",
    "tabela.to_excel(\"commodities_atualizado.xlsx\", index=False)"
   ]
  }
 ],
 "metadata": {
  "kernelspec": {
   "display_name": "Python 3 (ipykernel)",
   "language": "python",
   "name": "python3"
  },
  "language_info": {
   "codemirror_mode": {
    "name": "ipython",
    "version": 3
   },
   "file_extension": ".py",
   "mimetype": "text/x-python",
   "name": "python",
   "nbconvert_exporter": "python",
   "pygments_lexer": "ipython3",
   "version": "3.10.11"
  }
 },
 "nbformat": 4,
 "nbformat_minor": 5
}
